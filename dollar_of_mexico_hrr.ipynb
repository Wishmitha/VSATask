{
 "cells": [
  {
   "cell_type": "code",
   "execution_count": 1,
   "id": "initial_id",
   "metadata": {
    "collapsed": true,
    "ExecuteTime": {
     "end_time": "2024-02-28T16:12:32.706174500Z",
     "start_time": "2024-02-28T16:12:31.537732600Z"
    }
   },
   "outputs": [],
   "source": [
    "import numpy as np\n",
    "from scipy.signal import fftconvolve"
   ]
  },
  {
   "cell_type": "code",
   "outputs": [],
   "source": [
    "def generate_random_vector(dimensions):\n",
    "    \"\"\"Generate a random real-valued vector of the specified dimensions.\"\"\"\n",
    "    return np.random.randn(dimensions)"
   ],
   "metadata": {
    "collapsed": false,
    "ExecuteTime": {
     "end_time": "2024-02-28T13:56:10.324571900Z",
     "start_time": "2024-02-28T13:56:10.298566700Z"
    }
   },
   "id": "22ea8c3868e0d58",
   "execution_count": 13
  },
  {
   "cell_type": "code",
   "outputs": [],
   "source": [
    "def circular_convolution(v1, v2):\n",
    "    \"\"\"Perform circular convolution between two vectors.\"\"\"\n",
    "    return fftconvolve(v1, v2, mode='full')[:v1.size]  # Ensuring the result is the same size as the input vectors"
   ],
   "metadata": {
    "collapsed": false,
    "ExecuteTime": {
     "end_time": "2024-02-28T13:56:10.782324200Z",
     "start_time": "2024-02-28T13:56:10.758323100Z"
    }
   },
   "id": "7c9fe47dcd5b77f3",
   "execution_count": 14
  },
  {
   "cell_type": "code",
   "outputs": [],
   "source": [
    "def bundle(vectors):\n",
    "    \"\"\"Bundle a list of vectors using element-wise addition, then normalize.\"\"\"\n",
    "    return np.sum(vectors, axis=0)"
   ],
   "metadata": {
    "collapsed": false,
    "ExecuteTime": {
     "end_time": "2024-02-28T13:56:11.098963200Z",
     "start_time": "2024-02-28T13:56:11.078961Z"
    }
   },
   "id": "bc55b1aa6cd555ab",
   "execution_count": 15
  },
  {
   "cell_type": "code",
   "outputs": [],
   "source": [
    "def unbind(v1, v2):\n",
    "    \"\"\"Unbind two vectors using element-wise multiplication (inverse of bind).\"\"\"\n",
    "    return bind(v1, v2)  # In bipolar vectors, binding and unbinding are the same operation\n"
   ],
   "metadata": {
    "collapsed": false,
    "ExecuteTime": {
     "end_time": "2024-02-28T13:56:11.439558800Z",
     "start_time": "2024-02-28T13:56:11.419532Z"
    }
   },
   "id": "1f314288f02e60d3",
   "execution_count": 16
  },
  {
   "cell_type": "code",
   "outputs": [],
   "source": [
    "# Parameters\n",
    "dimensions = 1000"
   ],
   "metadata": {
    "collapsed": false,
    "ExecuteTime": {
     "end_time": "2024-02-28T13:56:11.713130300Z",
     "start_time": "2024-02-28T13:56:11.690130500Z"
    }
   },
   "id": "29bf92ecbff5030d",
   "execution_count": 17
  },
  {
   "cell_type": "code",
   "outputs": [],
   "source": [
    "# Generate symbols as random vectors\n",
    "symbols = {\n",
    "    \"Country_USA\": generate_random_vector(dimensions),\n",
    "    \"Capital_Washington\": generate_random_vector(dimensions),\n",
    "    \"Currency_Dollar\": generate_random_vector(dimensions),\n",
    "    \"Country_Mexico\": generate_random_vector(dimensions),\n",
    "    \"Capital_Mexico_City\": generate_random_vector(dimensions),\n",
    "    \"Currency_Peso\": generate_random_vector(dimensions),\n",
    "    \"Label_Country\": generate_random_vector(dimensions),\n",
    "    \"Label_Capital\": generate_random_vector(dimensions),\n",
    "    \"Label_Currency\": generate_random_vector(dimensions),\n",
    "}"
   ],
   "metadata": {
    "collapsed": false,
    "ExecuteTime": {
     "end_time": "2024-02-28T13:56:12.157812700Z",
     "start_time": "2024-02-28T13:56:12.137285100Z"
    }
   },
   "id": "f1101a0381cc7b4a",
   "execution_count": 18
  },
  {
   "cell_type": "code",
   "outputs": [],
   "source": [
    "# Encode information for USA and Mexico\n",
    "usa_vector = bundle([\n",
    "    bind(symbols[\"Label_Country\"], symbols[\"Country_USA\"]),\n",
    "    bind(symbols[\"Label_Capital\"], symbols[\"Capital_Washington\"]),\n",
    "    bind(symbols[\"Label_Currency\"], symbols[\"Currency_Dollar\"])\n",
    "])"
   ],
   "metadata": {
    "collapsed": false,
    "ExecuteTime": {
     "end_time": "2024-02-28T13:56:12.792164400Z",
     "start_time": "2024-02-28T13:56:12.771131900Z"
    }
   },
   "id": "d0a2e3633d1a2740",
   "execution_count": 19
  },
  {
   "cell_type": "code",
   "outputs": [
    {
     "data": {
      "text/plain": "(1000, 1)"
     },
     "execution_count": 20,
     "metadata": {},
     "output_type": "execute_result"
    }
   ],
   "source": [
    "usa_vector.shape"
   ],
   "metadata": {
    "collapsed": false,
    "ExecuteTime": {
     "end_time": "2024-02-28T13:56:13.162244Z",
     "start_time": "2024-02-28T13:56:13.123872900Z"
    }
   },
   "id": "8e09946a8f82b2de",
   "execution_count": 20
  },
  {
   "cell_type": "code",
   "outputs": [],
   "source": [
    "mexico_vector = bundle([\n",
    "    bind(symbols[\"Label_Country\"], symbols[\"Country_Mexico\"]),\n",
    "    bind(symbols[\"Label_Capital\"], symbols[\"Capital_Mexico_City\"]),\n",
    "    bind(symbols[\"Label_Currency\"], symbols[\"Currency_Peso\"])\n",
    "])"
   ],
   "metadata": {
    "collapsed": false,
    "ExecuteTime": {
     "end_time": "2024-02-28T13:56:37.911662100Z",
     "start_time": "2024-02-28T13:56:37.890365800Z"
    }
   },
   "id": "3318cf3f801496e6",
   "execution_count": 22
  },
  {
   "cell_type": "code",
   "outputs": [
    {
     "data": {
      "text/plain": "(1000, 1)"
     },
     "execution_count": 24,
     "metadata": {},
     "output_type": "execute_result"
    }
   ],
   "source": [
    "mexico_vector.shape"
   ],
   "metadata": {
    "collapsed": false,
    "ExecuteTime": {
     "end_time": "2024-02-28T13:59:57.428965800Z",
     "start_time": "2024-02-28T13:59:57.386429700Z"
    }
   },
   "id": "7d8756515c4dfcbd",
   "execution_count": 24
  },
  {
   "cell_type": "code",
   "outputs": [],
   "source": [
    "# Decode the currency of Mexico\n",
    "decoded_currency_vector = unbind(mexico_vector, symbols[\"Label_Currency\"])"
   ],
   "metadata": {
    "collapsed": false,
    "ExecuteTime": {
     "end_time": "2024-02-28T14:05:10.556635200Z",
     "start_time": "2024-02-28T14:05:10.522560500Z"
    }
   },
   "id": "f31e16f0df9fb114",
   "execution_count": 34
  },
  {
   "cell_type": "code",
   "outputs": [
    {
     "data": {
      "text/plain": "(1000, 1)"
     },
     "execution_count": 35,
     "metadata": {},
     "output_type": "execute_result"
    }
   ],
   "source": [
    "decoded_currency_vector.shape"
   ],
   "metadata": {
    "collapsed": false,
    "ExecuteTime": {
     "end_time": "2024-02-28T14:05:10.963554Z",
     "start_time": "2024-02-28T14:05:10.940018700Z"
    }
   },
   "id": "17e7472464fe2210",
   "execution_count": 35
  },
  {
   "cell_type": "code",
   "outputs": [],
   "source": [
    "# Measure similarity by dot product\n",
    "similarities = {symbol: np.dot(decoded_currency_vector.T, vector) for symbol, vector in symbols.items()}"
   ],
   "metadata": {
    "collapsed": false,
    "ExecuteTime": {
     "end_time": "2024-02-28T14:05:11.601876400Z",
     "start_time": "2024-02-28T14:05:11.548348900Z"
    }
   },
   "id": "315d926d22094f2",
   "execution_count": 36
  },
  {
   "cell_type": "code",
   "outputs": [
    {
     "data": {
      "text/plain": "{'Country_USA': array([[-54]]),\n 'Capital_Washington': array([[12]]),\n 'Currency_Dollar': array([[44]]),\n 'Country_Mexico': array([[-76]]),\n 'Capital_Mexico_City': array([[1008]]),\n 'Currency_Peso': array([[-24]]),\n 'Label_Country': array([[-74]]),\n 'Label_Capital': array([[-18]]),\n 'Label_Currency': array([[46]])}"
     },
     "execution_count": 37,
     "metadata": {},
     "output_type": "execute_result"
    }
   ],
   "source": [
    "similarities"
   ],
   "metadata": {
    "collapsed": false,
    "ExecuteTime": {
     "end_time": "2024-02-28T14:05:12.257027Z",
     "start_time": "2024-02-28T14:05:12.232017800Z"
    }
   },
   "id": "b1d6e28abf6e3388",
   "execution_count": 37
  },
  {
   "cell_type": "code",
   "outputs": [
    {
     "data": {
      "text/plain": "'Capital_Mexico_City'"
     },
     "execution_count": 38,
     "metadata": {},
     "output_type": "execute_result"
    }
   ],
   "source": [
    "# Find the most similar symbol to the decoded currency vector\n",
    "most_similar_symbol = max(similarities, key=similarities.get)\n",
    "\n",
    "most_similar_symbol"
   ],
   "metadata": {
    "collapsed": false,
    "ExecuteTime": {
     "end_time": "2024-02-28T14:05:16.364200200Z",
     "start_time": "2024-02-28T14:05:16.343187600Z"
    }
   },
   "id": "cf8311c1d8997ea6",
   "execution_count": 38
  },
  {
   "cell_type": "code",
   "outputs": [],
   "source": [],
   "metadata": {
    "collapsed": false
   },
   "id": "e1a8bf8276dde68f"
  }
 ],
 "metadata": {
  "kernelspec": {
   "display_name": "Python 3",
   "language": "python",
   "name": "python3"
  },
  "language_info": {
   "codemirror_mode": {
    "name": "ipython",
    "version": 2
   },
   "file_extension": ".py",
   "mimetype": "text/x-python",
   "name": "python",
   "nbconvert_exporter": "python",
   "pygments_lexer": "ipython2",
   "version": "2.7.6"
  }
 },
 "nbformat": 4,
 "nbformat_minor": 5
}
